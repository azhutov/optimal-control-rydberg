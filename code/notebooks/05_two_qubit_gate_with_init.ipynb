{
 "cells": [
  {
   "cell_type": "markdown",
   "metadata": {},
   "source": [
    "# Quantum Optimal Control: Two-Qubit Gate"
   ]
  },
  {
   "cell_type": "markdown",
   "metadata": {},
   "source": [
    "## Imports"
   ]
  },
  {
   "cell_type": "code",
   "execution_count": null,
   "metadata": {},
   "outputs": [],
   "source": [
    "import jax\n",
    "import jax.numpy as jnp\n",
    "import numpy as np\n",
    "import matplotlib.pyplot as plt\n",
    "import time\n",
    "\n",
    "from arc import Rubidium87\n",
    "from qutip import *\n",
    "from quantum_optimal_control.two_qubit.propagator_vl import (\n",
    "    PropagatorVL,\n",
    "    single_optimization_step\n",
    ")\n",
    "from quantum_optimal_control.two_qubit.qutip_simulation import gen_n_level_atom_basis, Mesolve_5lvl_t\n",
    "from quantum_optimal_control.toolkits.plotting_helper import PlotPlotter, getStylishFigureAxes\n",
    "\n",
    "key = jax.random.PRNGKey(12)"
   ]
  },
  {
   "cell_type": "markdown",
   "metadata": {},
   "source": [
    "## System Parameters Setup\n",
    "\n",
    "We'll define atomic parameters for Rubidium87, including lifetimes and decay rates for the intermediate excited state (6P3/2) and the Rydberg state (70 S1/2). For the two-qubit gate, additional parameters such as the interaction strength `V_int`, gate time `tau`, and detuning `Delta_i` are also specified.\n",
    "\n",
    "The Rydberg decay rate includes contributions from both radiative decay and blackbody-stimulated transitions."
   ]
  },
  {
   "cell_type": "code",
   "execution_count": null,
   "metadata": {},
   "outputs": [],
   "source": [
    "atom = Rubidium87()\n",
    "\n",
    "# Intermediate excited state: 6P3/2\n",
    "n_i = 6\n",
    "l_i = 1\n",
    "j_i = 1.5\n",
    "T_i = atom.getStateLifetime(n_i, l_i, j_i)  # Lifetime of the intermediate state\n",
    "Gamma_ig = 1/T_i  # Decay rate of the intermediate state\n",
    "\n",
    "# Additional intermediate decay channels for two-qubit gate\n",
    "Gamma_i1 = 1 * Gamma_ig  # Allowed decay\n",
    "Gamma_i0 = 0            # Not used\n",
    "\n",
    "# Hyperfine ground state decay rate (from e.g. Levine2018)\n",
    "Gamma_10 = 0.1  # Decay rate between hyperfine ground states (1/s)\n",
    "\n",
    "# Rydberg state: 70 S1/2\n",
    "n_r = 70\n",
    "l_r = 0\n",
    "j_r = 0.5\n",
    "\n",
    "# Total lifetime including blackbody stimulation and radiative decay\n",
    "T_rTot = atom.getStateLifetime(n_r, l_r, j_r, temperature=300, includeLevelsUpTo=n_r + 50)\n",
    "T_rRad = atom.getStateLifetime(n_r, l_r, j_r, temperature=0)\n",
    "T_ri = 1/atom.getTransitionRate(n_r, l_r, j_r, n_i, l_i, j_i, temperature=0)\n",
    "\n",
    "# Effective lifetimes\n",
    "T_rgp = 1/(1/T_rRad - 1/T_ri)\n",
    "T_rBB = 1/(1/T_rTot - 1/T_rRad)\n",
    "\n",
    "Gamma_ri = 1/T_ri\n",
    "Gamma_rrp = 1/T_rBB\n",
    "Gamma_rgp = 1/T_rgp\n",
    "Gamma_rTot = Gamma_ri + Gamma_rrp + Gamma_rgp\n",
    "Gamma_rd = Gamma_rrp + Gamma_rgp\n",
    "\n",
    "# Consolidate decay rates\n",
    "Gammas = [Gamma_10, Gamma_i1, Gamma_ri, Gamma_rd]\n",
    "\n",
    "# Two-qubit gate specific parameters\n",
    "V_int = 2 * np.pi * 10e6  # Interaction strength in rad/s\n",
    "tau = 324e-9             # Gate time (s)\n",
    "Delta_i = 2 * np.pi * -35.7e6  # Detuning for the gate (rad/s)\n",
    "\n",
    "print(f'V_int: {V_int/(2*np.pi*1e6):.2f} MHz')\n",
    "print(f'tau: {tau*1e9:.2f} ns')\n",
    "print(f'Delta_i: {Delta_i/(2*np.pi*1e6):.2f} MHz')\n",
    "\n",
    "# Additional system parameters\n",
    "Rabi_i = 2 * np.pi * 100e6\n",
    "Rabi_r = 2 * np.pi * 100e6\n",
    "del_total = 0\n",
    "\n",
    "# Time grid settings\n",
    "t_0 = 0\n",
    "t_f = 2 * tau\n",
    "nt = 500  # Increase for better accuracy if needed\n",
    "pad = int(0.03 * nt)  # Padding points\n",
    "delta_t = (t_f - t_0) / (nt + 2 * pad)\n",
    "tlist = np.linspace(t_0, t_f, nt + 2*pad)\n",
    "\n",
    "# Pulse bandwidth (largest frequency component)\n",
    "f_std = 50e6\n",
    "\n",
    "# Basis dimension for the Gaussian modes\n",
    "input_dim = 10\n",
    "\n",
    "# For the cost function, number of control amplitudes is 5\n",
    "# (Delta_i, Rabi_i Re/Im, Rabi_r Re/Im in the final pulses)\n",
    "numb_ctrl_amps = 5"
   ]
  },
  {
   "cell_type": "markdown",
   "metadata": {},
   "source": [
    "## Build Propagator\n",
    "We'll create an instance of `PropagatorVL` by providing the relevant parameters (dimensions, time step, detunings, Rabi frequencies, etc.). We'll later use this to both (a) convert `(ctrl_a, ctrl_b, ctrl_c)` into physical pulses, and (b) compute the gate infidelity in the final optimization."
   ]
  },
  {
   "cell_type": "code",
   "execution_count": null,
   "metadata": {},
   "outputs": [],
   "source": [
    "propagator = PropagatorVL(\n",
    "    input_dim=input_dim,\n",
    "    no_of_steps=nt,\n",
    "    pad=pad,\n",
    "    f_std=f_std,\n",
    "    delta_t=delta_t,\n",
    "    del_total=del_total,\n",
    "    V_int=V_int,\n",
    "    Delta_i=Delta_i,\n",
    "    Rabi_i=Rabi_i,\n",
    "    Rabi_r=Rabi_r,\n",
    "    Gammas_all=Gammas\n",
    ")"
   ]
  },
  {
   "cell_type": "markdown",
   "metadata": {},
   "source": [
    "## (1) Define Analytical Pulses for Initialization\n",
    "We want to approximate an initial guess:\n",
    "\\[\n",
    "  \\Omega_i(t) = \\sin\\Bigl(\\frac{\\pi}{2\\tau} t\\Bigr),\\quad\n",
    "  \\Omega_r(t) = \\bigl|\\cos\\bigl(\\frac{\\pi}{2\\tau} t\\bigr)\\bigr|.\n",
    "\\]\n",
    "We'll build arrays for these on our time grid `tlist` and do a short gradient-based step to fit the `(ctrl_a, ctrl_b, ctrl_c)` parameters to match these shapes (in dimensionless form)."
   ]
  },
  {
   "cell_type": "code",
   "execution_count": null,
   "metadata": {},
   "outputs": [],
   "source": [
    "def Rabi_i_analytical(t, tau):\n",
    "    return np.sin(np.pi / (2 * tau) * t)\n",
    "\n",
    "def Rabi_r_analytical(t, tau):\n",
    "    return np.abs(np.cos(np.pi / (2 * tau) * t))\n",
    "\n",
    "# Build arrays for the target Rabi pulses on the entire [0, 2*tau] range\n",
    "target_ri = np.array([Rabi_i_analytical(t, tau) for t in tlist])  # dimensionless in [0,1]\n",
    "target_rr = np.array([Rabi_r_analytical(t, tau) for t in tlist])"
   ]
  },
  {
   "cell_type": "markdown",
   "metadata": {},
   "source": [
    "### Cost Function to Match Rabi Pulses\n",
    "We will define a simple cost function:\n",
    "\\[\n",
    "  C = \\frac{1}{2N}\\sum_{t}\\Bigl(\\Omega_i^{(gen)}(t) - \\Omega_i^{(target)}(t)\\Bigr)^2 + \\frac{1}{2N}\\sum_{t}\\Bigl(\\Omega_r^{(gen)}(t) - \\Omega_r^{(target)}(t)\\Bigr)^2,\n",
    "\\]\n",
    "where \\(\\Omega_i^{(gen)}(t)\\) and \\(\\Omega_r^{(gen)}(t)\\) are the dimensionless generated pulses derived from `(ctrl_a, ctrl_b, ctrl_c)`."
   ]
  },
  {
   "cell_type": "code",
   "execution_count": null,
   "metadata": {},
   "outputs": [],
   "source": [
    "def cost_match_rabi(ctrl_a, ctrl_b, ctrl_c):\n",
    "    # pulses: [M, 5] => [Delta_i(t), Rabi_i amplitude param, Rabi_i phase param, Rabi_r amplitude param, Rabi_r phase param]\n",
    "    pulses = propagator.return_physical_amplitudes(ctrl_a, ctrl_b, ctrl_c)\n",
    "\n",
    "    # Rabi_i magnitude (dimensionless)\n",
    "    rabi_i_mag = Rabi_i * pulses[:,1]\n",
    "    rabi_i_dimless = rabi_i_mag / Rabi_i  # => pulses[:,1]\n",
    "\n",
    "    # Rabi_r magnitude (dimensionless)\n",
    "    rabi_r_mag = Rabi_r * pulses[:,3]\n",
    "    rabi_r_dimless = rabi_r_mag / Rabi_r  # => pulses[:,3]\n",
    "\n",
    "    diff_i = rabi_i_dimless - target_ri\n",
    "    diff_r = rabi_r_dimless - target_rr\n",
    "\n",
    "    cost_i = jnp.mean(diff_i**2)\n",
    "    cost_r = jnp.mean(diff_r**2)\n",
    "\n",
    "    return 0.5*(cost_i + cost_r)\n",
    "\n",
    "@jax.jit\n",
    "def single_match_step(ctrl_a, ctrl_b, ctrl_c, lr=0.03):\n",
    "    val, grads = jax.value_and_grad(cost_match_rabi, argnums=(0,1,2))(ctrl_a, ctrl_b, ctrl_c)\n",
    "    gA, gB, gC = grads\n",
    "\n",
    "    ctrl_a_upd = ctrl_a - lr*gA\n",
    "    ctrl_b_upd = ctrl_b - lr*gB\n",
    "    ctrl_c_upd = ctrl_c - lr*gC\n",
    "    return val, ctrl_a_upd, ctrl_b_upd, ctrl_c_upd"
   ]
  },
  {
   "cell_type": "markdown",
   "metadata": {},
   "source": [
    "### Run the Matching to Obtain an Initial Guess\n",
    "We'll do a moderate number of gradient steps to find `(ctrl_a, ctrl_b, ctrl_c)` that best match our target Rabi shapes. Then we'll use these as the starting point for the actual gate optimization.\n",
    "\n",
    "We do **not** attempt to match phases or detunings at this stage; we only match the magnitude portion for `\\Omega_i(t)` and `\\Omega_r(t)` to keep it simple."
   ]
  },
  {
   "cell_type": "code",
   "execution_count": null,
   "metadata": {},
   "outputs": [],
   "source": [
    "# Initialize the control parameters with small random values\n",
    "key, s1, s2, s3 = jax.random.split(key, 4)\n",
    "\n",
    "ctrl_a_init = jax.random.normal(s1, shape=(input_dim, numb_ctrl_amps))*0.3\n",
    "ctrl_b_init = jax.random.normal(s2, shape=(input_dim, numb_ctrl_amps))*0.3\n",
    "ctrl_c_init = jax.random.normal(s3, shape=(input_dim, numb_ctrl_amps))*0.3\n",
    "\n",
    "init_cost = cost_match_rabi(ctrl_a_init, ctrl_b_init, ctrl_c_init)\n",
    "print(f\"Initial matching cost = {init_cost:.6e}\")\n",
    "\n",
    "# Perform gradient-based matching\n",
    "num_match_iters = 1000\n",
    "lr_match = 0.03\n",
    "\n",
    "ctrl_a, ctrl_b, ctrl_c = ctrl_a_init, ctrl_b_init, ctrl_c_init\n",
    "\n",
    "# Warmup\n",
    "_warm_val, ctrl_a, ctrl_b, ctrl_c = single_match_step(ctrl_a, ctrl_b, ctrl_c, lr_match)\n",
    "\n",
    "cost_history_match = []\n",
    "for step in range(num_match_iters):\n",
    "    val, ctrl_a, ctrl_b, ctrl_c = single_match_step(ctrl_a, ctrl_b, ctrl_c, lr_match)\n",
    "    cost_history_match.append(val)\n",
    "    if (step+1) % 200 == 0:\n",
    "        print(f\"Match step {step+1}, cost = {val:.6e}\")\n",
    "\n",
    "final_match_cost = cost_history_match[-1]\n",
    "print(f\"Final matching cost after {num_match_iters} steps = {final_match_cost:.6e}\")"
   ]
  },
  {
   "cell_type": "markdown",
   "metadata": {},
   "source": [
    "### Check the Matched Pulses\n",
    "We confirm that the dimensionless pulses for `\\Omega_i` and `\\Omega_r` at this stage are close to the target shapes."
   ]
  },
  {
   "cell_type": "code",
   "execution_count": null,
   "metadata": {},
   "outputs": [],
   "source": [
    "pulses_matched = propagator.return_physical_amplitudes(ctrl_a, ctrl_b, ctrl_c)\n",
    "pulses_matched_np = np.array(pulses_matched)\n",
    "\n",
    "ri_matched = Rabi_i * pulses_matched_np[:,1]\n",
    "rr_matched = Rabi_r * pulses_matched_np[:,3]\n",
    "\n",
    "ri_dimless = ri_matched / Rabi_i\n",
    "rr_dimless = rr_matched / Rabi_r\n",
    "\n",
    "fig, ax = getStylishFigureAxes(1,1)\n",
    "PlotPlotter(\n",
    "    fig, ax,\n",
    "    tlist*1e9,\n",
    "    target_ri,\n",
    "    style={'label': 'Target Rabi_i', 'marker': '', 'linestyle':'--'}\n",
    ").draw()\n",
    "PlotPlotter(\n",
    "    fig, ax,\n",
    "    tlist*1e9,\n",
    "    target_rr,\n",
    "    style={'label': 'Target Rabi_r', 'marker': '', 'linestyle':'--'}\n",
    ").draw()\n",
    "\n",
    "PlotPlotter(\n",
    "    fig, ax,\n",
    "    tlist*1e9,\n",
    "    ri_dimless,\n",
    "    style={'label': 'Matched Rabi_i', 'marker': '', 'linestyle':'-'}\n",
    ").draw()\n",
    "PlotPlotter(\n",
    "    fig, ax,\n",
    "    tlist*1e9,\n",
    "    rr_dimless,\n",
    "    style={'label': 'Matched Rabi_r', 'marker': '', 'linestyle':'-'}\n",
    ").draw()\n",
    "\n",
    "ax.set_xlabel('Time (ns)')\n",
    "ax.set_ylabel(r'$\\tilde{\\Omega}/\\Omega_{max}$')\n",
    "ax.legend(fontsize=6, bbox_to_anchor=(1.05, 1), loc='upper left')\n",
    "plt.show()"
   ]
  },
  {
   "cell_type": "markdown",
   "metadata": {},
   "source": [
    "## (2) Main Gate Optimization\n",
    "Next, we proceed with the gate infidelity minimization just as in the `02_two_qubit_gate.ipynb`. However, **instead** of randomizing `(ctrl_a, ctrl_b, ctrl_c)` at the start, we use the matched values from above as our initial guess.\n",
    "\n",
    "We call the function `propagator.target(ctrl_a, ctrl_b, ctrl_c)` which returns a cost combining gate infidelity and adiabatic penalty (as defined in `PropagatorVLJAX`). We'll do a standard gradient descent or Adam-like approach."
   ]
  },
  {
   "cell_type": "code",
   "execution_count": null,
   "metadata": {},
   "outputs": [],
   "source": [
    "# We'll start from the matched solution\n",
    "ctrl_a_opt = ctrl_a\n",
    "ctrl_b_opt = ctrl_b\n",
    "ctrl_c_opt = ctrl_c\n",
    "\n",
    "# Evaluate initial gate cost\n",
    "init_gate_cost = propagator.target(ctrl_a_opt, ctrl_b_opt, ctrl_c_opt)\n",
    "print(f\"Initial gate cost with matched pulses: {init_gate_cost:.6e}\")\n",
    "\n",
    "num_gate_iters = 1250\n",
    "learning_rate = 0.02\n",
    "\n",
    "cost_history_gate = []\n",
    "\n",
    "# Warmup step for JIT\n",
    "_warm_gate_cost, ctrl_a_opt, ctrl_b_opt, ctrl_c_opt = single_optimization_step(\n",
    "    propagator, ctrl_a_opt, ctrl_b_opt, ctrl_c_opt, lr=learning_rate\n",
    ")\n",
    "\n",
    "for step in range(num_gate_iters):\n",
    "    cost_val, ctrl_a_opt, ctrl_b_opt, ctrl_c_opt = single_optimization_step(\n",
    "        propagator, ctrl_a_opt, ctrl_b_opt, ctrl_c_opt, lr=learning_rate\n",
    "    )\n",
    "    cost_history_gate.append(cost_val)\n",
    "    if (step + 1) % 10 == 0:\n",
    "        print(f\"Iteration {step+1}, gate cost = {cost_val:.6e}\")\n",
    "\n",
    "best_cost = cost_history_gate[-1]\n",
    "print(f\"Final cost funct {num_gate_iters} steps: {best_cost:.6e}\")"
   ]
  },
  {
   "cell_type": "markdown",
   "metadata": {},
   "source": [
    "### Analyze Optimized Pulses\n",
    "Now, we can look at the final pulses and measure their final gate infidelity. For completeness, let's also quickly plot them."
   ]
  },
  {
   "cell_type": "code",
   "execution_count": null,
   "metadata": {},
   "outputs": [],
   "source": [
    "final_pulses = propagator.return_physical_amplitudes(ctrl_a_opt, ctrl_b_opt, ctrl_c_opt)\n",
    "final_pulses_np = np.array(final_pulses)\n",
    "\n",
    "labels = [r\"$\\Delta_i$\", r\"Rabi_i\\,mag\", r\"Rabi_i\\,phase\", r\"Rabi_r\\,mag\", r\"Rabi_r\\,phase\"]\n",
    "\n",
    "fig, ax = getStylishFigureAxes(1,1)\n",
    "for i in range(final_pulses_np.shape[1]):\n",
    "    PlotPlotter(\n",
    "        fig,\n",
    "        ax,\n",
    "        tlist*1e9,\n",
    "        final_pulses_np[:, i],\n",
    "        style={'label': labels[i], 'marker': '', 'linestyle': '-'},\n",
    "        xticks=[0, 250, 500, 750]\n",
    "    ).draw()\n",
    "\n",
    "ax.set_xlabel('Time (ns)')\n",
    "ax.set_ylabel('Pulse Amplitude')\n",
    "ax.legend(fontsize=6, bbox_to_anchor=(1.05, 1), loc='upper left')\n",
    "plt.show()"
   ]
  },
  {
   "cell_type": "markdown",
   "metadata": {},
   "source": [
    "## Final Infidelity and Adiabatic Metric\n",
    "We can use `propagator.metrics(ctrl_a_opt, ctrl_b_opt, ctrl_c_opt)` to get the final infidelity and an additional adiabatic measure. Let's do that."
   ]
  },
  {
   "cell_type": "code",
   "execution_count": null,
   "metadata": {},
   "outputs": [],
   "source": [
    "infid, adiab = propagator.metrics(ctrl_a_opt, ctrl_b_opt, ctrl_c_opt)\n",
    "print(f\"Final infidelity: {infid:.6e}\\nAdiabatic metric: {adiab:.6e}\")"
   ]
  },
  {
   "cell_type": "code",
   "execution_count": null,
   "metadata": {},
   "outputs": [],
   "source": [
    "g_0, g_1, i, r, dark = gen_n_level_atom_basis(5)\n",
    "\n",
    "psi0 = 1/2 * (tensor(g_0, g_0) + tensor(g_0, g_1) +\n",
    "              tensor(g_1, g_0) + tensor(g_1, g_1))\n",
    "psi_targ = 1/2 * (tensor(g_0, g_0) + tensor(g_0, g_1) +\n",
    "                  tensor(g_1, g_0) - tensor(g_1, g_1))\n",
    "\n",
    "# Set parameters for Hamiltonian\n",
    "\n",
    "final_pulses_np = np.array(final_pulses)\n",
    "Rabi_i_Pulse_Re = final_pulses_np[:, 1] * np.cos(np.pi * final_pulses_np[:, 2])\n",
    "Rabi_i_Pulse_Im = final_pulses_np[:, 1] * np.sin(np.pi * final_pulses_np[:, 2])\n",
    "Rabi_r_Pulse_Re = final_pulses_np[:, 3] * np.cos(np.pi * final_pulses_np[:, 4])\n",
    "Rabi_r_Pulse_Im = final_pulses_np[:, 3] * np.sin(np.pi * final_pulses_np[:, 4])\n",
    "Delta_i_Pulse = final_pulses_np[:, 0]\n",
    "\n",
    "\n",
    "argsME5lvl = [psi0, psi_targ, V_int, Rabi_i, Rabi_r,\n",
    "              Rabi_i_Pulse_Re, Rabi_r_Pulse_Re, Rabi_i_Pulse_Im,\n",
    "              Rabi_r_Pulse_Im, Delta_i_Pulse, Delta_i, del_total, Gammas\n",
    "              ]\n",
    "\n",
    "# #Solve Propagator Equation: Superoperator\n",
    "result = Mesolve_5lvl_t(tlist, argsME5lvl, output_states=True)\n",
    "fidelity = result.expect[1][-1]\n",
    "print(f\"fidelity: {fidelity:.5f}\")"
   ]
  },
  {
   "cell_type": "code",
   "execution_count": null,
   "metadata": {},
   "outputs": [],
   "source": [
    "# calcualte the fidelity for the analytical solution\n",
    "\n",
    "Rabi_i_re_analytical = np.sin(np.pi / (2 * tau) * tlist)\n",
    "Rabi_i_im_analytical = np.zeros_like(tlist)\n",
    "Rabi_r_re_analytical = np.abs(np.cos(np.pi / (2 * tau) * tlist))\n",
    "Rabi_r_im_analytical = np.zeros_like(tlist)\n",
    "Delta_i_analytical = np.ones_like(tlist)\n",
    "\n",
    "\n",
    "argsME5lvl_analytical = [psi0, psi_targ, V_int, Rabi_i, Rabi_r,\n",
    "                        Rabi_i_re_analytical, Rabi_r_re_analytical, Rabi_i_im_analytical,\n",
    "                        Rabi_r_im_analytical, Delta_i_analytical, Delta_i, del_total, Gammas]\n",
    "result_analytical = Mesolve_5lvl_t(tlist, argsME5lvl_analytical, output_states=True)\n",
    "fidelity_analytical = result_analytical.expect[1][-1]\n",
    "print(fidelity_analytical)\n"
   ]
  },
  {
   "cell_type": "markdown",
   "metadata": {},
   "source": [
    "## (3) **Optional**: Using the Optimized Propagator\n",
    "Here, we demonstrate how to use the new `PropagatorVLOpt` class in `propagator_vl_optimized.py` to potentially accelerate the same two-qubit gate computations."
   ]
  },
  {
   "cell_type": "code",
   "execution_count": null,
   "metadata": {},
   "outputs": [],
   "source": [
    "from quantum_optimal_control.two_qubit.propagator_vl_optimized import (\n",
    "    PropagatorVLOpt, single_optimization_step_opt\n",
    ")\n",
    "\n",
    "# Create an instance of the optimized propagator\n",
    "propagator_opt = PropagatorVLOpt(\n",
    "    input_dim=input_dim,\n",
    "    no_of_steps=nt,\n",
    "    pad=pad,\n",
    "    f_std=f_std,\n",
    "    delta_t=delta_t,\n",
    "    del_total=del_total,\n",
    "    V_int=V_int,3\n",
    "    Delta_i=Delta_i,\n",
    "    Rabi_i=Rabi_i,\n",
    "    Rabi_r=Rabi_r,\n",
    "    Gammas_all=Gammas\n",
    ")"
   ]
  },
  {
   "cell_type": "markdown",
   "metadata": {},
   "source": [
    "### Timing Comparison\n",
    "We show how one might measure runtime for a few calls to `.target(...)` or a quick optimization loop using the new optimized version. The speedup will depend on hardware and specific JAX environment."
   ]
  },
  {
   "cell_type": "code",
   "execution_count": null,
   "metadata": {},
   "outputs": [],
   "source": [
    "import time\n",
    "\n",
    "# Copy the matched pulses from above to use as a test\n",
    "test_ctrl_a = ctrl_a_init\n",
    "test_ctrl_b = ctrl_b_init\n",
    "test_ctrl_c = ctrl_c_init\n",
    "\n",
    "# Force a warm-up\n",
    "_ = propagator_opt.target(test_ctrl_a, test_ctrl_b, test_ctrl_c).block_until_ready()\n",
    "\n",
    "t0 = time.perf_counter()\n",
    "# e.g. measure multiple calls\n",
    "for _ in range(10):\n",
    "    _ = propagator_opt.target(test_ctrl_a, test_ctrl_b, test_ctrl_c)\n",
    "jax.block_until_ready(_)\n",
    "t1 = time.perf_counter()\n",
    "\n",
    "print(f\"Optimized version: 10 calls to target(...) took {t1 - t0:.4f} s\")"
   ]
  },
  {
   "cell_type": "markdown",
   "metadata": {},
   "source": [
    "### Optional: Quick Optimization with the Optimized Propagator\n",
    "We can run a few gradient steps to see if it converges similarly and measure time."
   ]
  },
  {
   "cell_type": "code",
   "execution_count": null,
   "metadata": {},
   "outputs": [],
   "source": [
    "test_lr = 0.02\n",
    "n_steps = 50\n",
    "ctrl_a_opt2 = test_ctrl_a\n",
    "ctrl_b_opt2 = test_ctrl_b\n",
    "ctrl_c_opt2 = test_ctrl_c\n",
    "\n",
    "# warm-up\n",
    "_warm_val2, ctrl_a_opt2, ctrl_b_opt2, ctrl_c_opt2 = single_optimization_step_opt(\n",
    "    propagator_opt, ctrl_a_opt2, ctrl_b_opt2, ctrl_c_opt2, lr=test_lr)\n",
    "\n",
    "t2 = time.perf_counter()\n",
    "for step in range(n_steps):\n",
    "    cost_val2, ctrl_a_opt2, ctrl_b_opt2, ctrl_c_opt2 = single_optimization_step_opt(\n",
    "        propagator_opt, ctrl_a_opt2, ctrl_b_opt2, ctrl_c_opt2, lr=test_lr\n",
    "    )\n",
    "jax.block_until_ready(cost_val2)\n",
    "t3 = time.perf_counter()\n",
    "print(f\"{n_steps} steps of optimization with PropagatorVLOpt: {t3 - t2:.4f} s\")\n",
    "print(f\"Final cost: {cost_val2:.6e}\")"
   ]
  }
 ],
 "metadata": {
  "kernelspec": {
   "display_name": "qoc-jax",
   "language": "python",
   "name": "python3"
  },
  "language_info": {
   "codemirror_mode": {
    "name": "ipython",
    "version": 3
   },
   "file_extension": ".py",
   "mimetype": "text/x-python",
   "name": "python",
   "nbconvert_exporter": "python",
   "pygments_lexer": "ipython3",
   "version": "3.9.12"
  }
 },
 "nbformat": 4,
 "nbformat_minor": 2
}
