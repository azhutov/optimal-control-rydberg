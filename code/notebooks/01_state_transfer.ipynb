{
 "cells": [
  {
   "cell_type": "markdown",
   "metadata": {},
   "source": [
    "# Quantum Optimal Control: State Transfer\n"
   ]
  },
  {
   "cell_type": "code",
   "execution_count": null,
   "metadata": {},
   "outputs": [],
   "source": [
    "import tensorflow as tf\n",
    "import numpy as np\n",
    "import matplotlib.pyplot as plt\n",
    "import time\n",
    "\n",
    "from arc import Rubidium87\n",
    "from qutip import *\n",
    "\n",
    "from quantum_optimal_control.state_transfer.propagator_vl import PropagatorVL\n",
    "from quantum_optimal_control.toolkits.plotting_helper import getStylishFigureAxes, PlotPlotter\n",
    "\n",
    "tf.random.set_seed(1)"
   ]
  },
  {
   "cell_type": "markdown",
   "metadata": {},
   "source": [
    "## System Parameters Setup\n"
   ]
  },
  {
   "cell_type": "code",
   "execution_count": null,
   "metadata": {},
   "outputs": [],
   "source": [
    "atom = Rubidium87()\n",
    "\n",
    "# Intermediate excited state: 6P3/2\n",
    "n_i = 6\n",
    "l_i = 1\n",
    "j_i = 1.5\n",
    "T_i = atom.getStateLifetime(n_i, l_i, j_i)  # Lifetime of the intermediate state\n",
    "Gamma_ig = 1/T_i  # Decay rate of the intermediate state\n",
    "\n",
    "# Rydberg state: 70 S1/2\n",
    "n_r = 70\n",
    "l_r = 0\n",
    "j_r = 0.5\n",
    "# Compute total lifetime including blackbody stimulation (T_rTot), radiative lifetime at 0 K (T_rRad),\n",
    "# and the radiative transition lifetime (T_ri) for decay to the intermediate state\n",
    "T_rTot = atom.getStateLifetime(n_r, l_r, j_r, temperature=300, includeLevelsUpTo=n_r+50)  \n",
    "T_rRad = atom.getStateLifetime(n_r, l_r, j_r, temperature=0)  \n",
    "T_ri = 1/atom.getTransitionRate(n_r, l_r, j_r, n_i, l_i, j_i, temperature=0)  \n",
    "# Calculate effective lifetimes for radiative decay (T_rgp) and blackbody stimulated transitions (T_rBB)\n",
    "T_rgp = 1/(1/T_rRad - 1/T_ri)  \n",
    "T_rBB = 1/(1/T_rTot - 1/T_rRad)  \n",
    "\n",
    "Gamma_ri = 1/T_ri\n",
    "Gamma_rrp = 1/T_rBB\n",
    "Gamma_rgp = 1/T_rgp\n",
    "Gamma_rTot = Gamma_ri + Gamma_rrp + Gamma_rgp  # Total decay rate from the Rydberg state\n",
    "\n",
    "# Control parameters\n",
    "Rabi_1 = 2 * np.pi * 127e6\n",
    "Rabi_2 = 2 * np.pi * 127e6\n",
    "Delta_1 = 0\n",
    "del_total = 0\n",
    "\n",
    "# Time grid\n",
    "t_0 = 0\n",
    "t_f = 100e-9\n",
    "nt = 1000\n",
    "delta_t = (t_f - t_0) / nt\n",
    "tlist = np.linspace(t_0, t_f, nt)\n",
    "\n",
    "# Basis functions for control amplitudes and optimization parameters\n",
    "input_dim = 10\n",
    "num_iters = 1250\n",
    "learn_rate = 0.1"
   ]
  },
  {
   "cell_type": "markdown",
   "metadata": {},
   "source": [
    "## Initialize Propagator\n",
    "\n",
    "Instantiate the `PropagatorVL` class and set the initial guess for the control amplitudes."
   ]
  },
  {
   "cell_type": "code",
   "execution_count": null,
   "metadata": {},
   "outputs": [],
   "source": [
    "propagatorVL = PropagatorVL(\n",
    "    input_dim, nt, delta_t, del_total, Delta_1, Rabi_1, Rabi_2,\n",
    "    Gamma_rTot, Gamma_ig\n",
    ")\n",
    "\n",
    "# There are 5 control amplitudes: Delta_1, Re/Im of Rabi_1, Re/Im of Rabi_2\n",
    "numb_ctrl_amps = 5\n",
    "\n",
    "propagatorVL.ctrl_amplitudes_a.assign(\n",
    "    tf.random.uniform([input_dim, numb_ctrl_amps], -1, 1, dtype=tf.float64)\n",
    ")\n",
    "propagatorVL.ctrl_amplitudes_b[:, 0].assign(\n",
    "    tf.random.uniform([input_dim], -1, 1, dtype=tf.float64)\n",
    ")\n",
    "propagatorVL.ctrl_amplitudes_b[:, 1:3].assign(\n",
    "    tf.random.uniform([input_dim, 2], 0, 1, dtype=tf.float64)\n",
    ")\n",
    "propagatorVL.ctrl_amplitudes_b[:, 3:5].assign(\n",
    "    tf.random.uniform([input_dim, 2], -1, 0, dtype=tf.float64)\n",
    ")\n",
    "\n",
    "propagatorVL.ctrl_amplitudes_c.assign(\n",
    "    tf.random.uniform([input_dim, numb_ctrl_amps], 0, 0.1, dtype=tf.float64)\n",
    ")\n",
    "\n",
    "initial_infidelity = propagatorVL.target()\n",
    "print('Initial Figure of Merit:', initial_infidelity.numpy())"
   ]
  },
  {
   "cell_type": "markdown",
   "metadata": {},
   "source": [
    "## Visualize Initial Control Pulses"
   ]
  },
  {
   "cell_type": "code",
   "execution_count": null,
   "metadata": {},
   "outputs": [],
   "source": [
    "physical_amplitudes_initial = propagatorVL.return_physical_amplitudes().numpy()\n",
    "labels = [r\"$\\Delta_1$\", r\"$\\mathrm{Re}(\\Omega_1)$\", r\"$\\mathrm{Im}(\\Omega_1)$\", r\"$\\mathrm{Re}(\\Omega_2)$\", r\"$\\mathrm{Im}(\\Omega_2)$\"]\n",
    "colors = ['k', 'm--', 'b:', 'c--', 'r:']\n",
    "\n",
    "fig, ax = getStylishFigureAxes(1, 1)\n",
    "ind = 0\n",
    "for amplitude in tf.transpose(physical_amplitudes_initial):\n",
    "    PlotPlotter(fig, ax, tlist * 1e9, amplitude, style={'label': labels[ind], 'marker': '', 'linestyle': '-', 'linewidth': 1}).draw()\n",
    "    ind += 1\n",
    "ax.set_xlabel('Time (ns)')\n",
    "ax.set_ylabel('Pulse Amplitude')\n",
    "ax.set_yticks([-1, 0, 1])\n",
    "ax.legend(fontsize=4, bbox_to_anchor=(1.05, 1), loc='upper left')\n",
    "plt.show()"
   ]
  },
  {
   "cell_type": "markdown",
   "metadata": {},
   "source": [
    "## Optimize Control Pulses\n",
    "\n",
    "Apply gradient-based optimization to minimize the target cost function."
   ]
  },
  {
   "cell_type": "code",
   "execution_count": null,
   "metadata": {},
   "outputs": [],
   "source": [
    "optimizer = tf.keras.optimizers.Adam(learn_rate)\n",
    "\n",
    "@tf.function\n",
    "def optimization_step():\n",
    "    with tf.GradientTape() as tape:\n",
    "        cost = propagatorVL.target()\n",
    "    grads = tape.gradient(cost, [\n",
    "        propagatorVL.ctrl_amplitudes_a,\n",
    "        propagatorVL.ctrl_amplitudes_b,\n",
    "        propagatorVL.ctrl_amplitudes_c\n",
    "    ])\n",
    "    optimizer.apply_gradients(zip(grads, [\n",
    "        propagatorVL.ctrl_amplitudes_a,\n",
    "        propagatorVL.ctrl_amplitudes_b,\n",
    "        propagatorVL.ctrl_amplitudes_c\n",
    "    ]))\n",
    "    return propagatorVL.target()\n",
    "\n",
    "best_infidelity = 1.0\n",
    "for step in range(num_iters):\n",
    "    current_cost = optimization_step()\n",
    "    if (step + 1) % 50 == 0 or step == 0:\n",
    "        print(f'Step {step+1}: Figure of Merit = {current_cost.numpy()[0][0]:.5f}')\n",
    "    if current_cost < best_infidelity:\n",
    "        best_infidelity = current_cost\n",
    "\n",
    "print('Optimized Figure of Merit:', best_infidelity.numpy())"
   ]
  },
  {
   "cell_type": "markdown",
   "metadata": {},
   "source": [
    "## Post-Optimization Analysis\n",
    "\n",
    "Simulate the dynamics using the optimized pulses, compute the Rabi amplitudes, and analyze the dark state overlap.\n",
    "\n",
    "Below we plot both the computed Rabi amplitudes (magnitude) and the raw real/imaginary components"
   ]
  },
  {
   "cell_type": "code",
   "execution_count": null,
   "metadata": {},
   "outputs": [],
   "source": [
    "# Retrieve optimized physical amplitudes\n",
    "physical_amplitudes_final = propagatorVL.return_physical_amplitudes().numpy()\n",
    "\n",
    "# Compute Rabi amplitudes from real and imaginary parts\n",
    "Rabi_1_amplitude = np.sqrt(physical_amplitudes_final[:, 1]**2 + physical_amplitudes_final[:, 2]**2)\n",
    "Rabi_2_amplitude = np.sqrt(physical_amplitudes_final[:, 3]**2 + physical_amplitudes_final[:, 4]**2)\n",
    "Rabi_1_phase = np.angle(physical_amplitudes_final[:, 1] + 1j * physical_amplitudes_final[:, 2])\n",
    "Rabi_2_phase = np.angle(physical_amplitudes_final[:, 3] + 1j * physical_amplitudes_final[:, 4])\n",
    "\n",
    "# Plot optimized control pulses (raw real and imaginary parts)\n",
    "fig, ax = getStylishFigureAxes(1, 1)\n",
    "for ind, amplitude in enumerate(tf.transpose(physical_amplitudes_final)):\n",
    "    PlotPlotter(fig, ax, tlist * 1e9, amplitude, style={'label': labels[ind], 'marker': '', 'linestyle': '-'}).draw()\n",
    "ax.set_xlabel('Time (ns)')\n",
    "ax.set_ylabel('Pulse Amplitude')\n",
    "ax.legend(fontsize=6, bbox_to_anchor=(1.05, 1), loc='upper left')\n",
    "plt.show()\n",
    "\n",
    "# Plot computed Rabi amplitudes (magnitudes)\n",
    "fig, ax = getStylishFigureAxes(1, 1)\n",
    "PlotPlotter(fig, ax, tlist * 1e9, Rabi_1_amplitude, style={'label': r'$|\\Omega_1|$', 'marker': '', 'linestyle': '-'}).draw()\n",
    "PlotPlotter(fig, ax, tlist * 1e9, Rabi_2_amplitude, style={'label': r'$|\\Omega_2|$', 'marker': '', 'linestyle': '-'}).draw()\n",
    "ax.set_xlabel('Time (ns)')\n",
    "ax.set_ylabel(r'$\\widetilde{\\Omega}(t)/\\Omega_{max}$')\n",
    "ax.legend(fontsize=6)\n",
    "plt.show()\n",
    "\n",
    "# Plot computed phases\n",
    "fig, ax = getStylishFigureAxes(1, 1)\n",
    "PlotPlotter(fig, ax, tlist * 1e9, Rabi_1_phase / np.pi, style={'label': r'$\\varphi_1$', 'marker': '', 'linestyle': '-'}).draw()\n",
    "PlotPlotter(fig, ax, tlist * 1e9, Rabi_2_phase / np.pi, style={'label': r'$\\varphi_2$', 'marker': '', 'linestyle': '-'}).draw()\n",
    "ax.set_xlabel('Time (ns)')\n",
    "ax.set_ylabel(r'$\\varphi/\\pi$')\n",
    "ax.legend(fontsize=6)\n",
    "plt.show()"
   ]
  },
  {
   "cell_type": "code",
   "execution_count": null,
   "metadata": {},
   "outputs": [],
   "source": [
    "# Compute dark state overlap over time\n",
    "exps = propagatorVL.exponentials()\n",
    "g_prime, r_prime, g, i, r = propagatorVL.nLevelAtomBasis(propagatorVL.dim)\n",
    "current_state = propagatorVL.psi_0\n",
    "DS_overlap_squared = []\n",
    "for idx in range(propagatorVL.no_of_steps):\n",
    "    # Calculate current Rabi frequencies\n",
    "    current_Rabi_1 = Rabi_1 * physical_amplitudes_final[idx, 1:3]\n",
    "    current_Rabi_2 = Rabi_2 * physical_amplitudes_final[idx, 3:5]\n",
    "    norm_dark = 1.0/np.sqrt(np.sum(np.square(current_Rabi_1.real) + np.square(current_Rabi_1.imag) +\n",
    "                                  np.square(current_Rabi_2.real) + np.square(current_Rabi_2.imag)))\n",
    "    dark_state = norm_dark * ((current_Rabi_2[0] + 1j*current_Rabi_2[1]) * g - \n",
    "                              (current_Rabi_1[0] - 1j*current_Rabi_1[1]) * r)\n",
    "    overlap = tf.linalg.matmul(current_state, tf.reshape(tf.cast(dark_state, tf.complex128), (-1,1)), adjoint_a=True)[0,0]\n",
    "    DS_overlap_squared.append(tf.math.real(overlap * tf.math.conj(overlap)).numpy())\n",
    "    # Propagate state\n",
    "    current_state = tf.linalg.matmul(exps[idx, :propagatorVL.dim, :propagatorVL.dim], current_state)\n"
   ]
  },
  {
   "cell_type": "code",
   "execution_count": null,
   "metadata": {},
   "outputs": [],
   "source": [
    "# Plot dark state overlap\n",
    "fig, ax = getStylishFigureAxes(1, 1)\n",
    "PlotPlotter(fig, ax, tlist * 1e9, DS_overlap_squared, style={'label': 'Dark State Overlap', 'marker': '', 'linestyle': '-', 'linewidth': 1}).draw()\n",
    "ax.set_xlabel('Time (ns)')\n",
    "ax.set_ylabel(r'$|\\langle D|\\psi \\rangle|^2$')\n",
    "plt.show()"
   ]
  }
 ],
 "metadata": {
  "kernelspec": {
   "display_name": "qoc",
   "language": "python",
   "name": "python3"
  },
  "language_info": {
   "name": "python",
   "version": "3.9.12"
  }
 },
 "nbformat": 4,
 "nbformat_minor": 2
}
