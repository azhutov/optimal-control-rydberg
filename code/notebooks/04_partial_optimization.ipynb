{
 "cells": [
  {
   "cell_type": "markdown",
   "metadata": {},
   "source": [
    "# Partial Optimization of Control Parameters\n",
    "\n",
    "In this notebook, we demonstrate how to **optimize only a subset** of the control parameters (for example, just the Rabi amplitudes for \\(\\Omega_i\\) and \\(\\Omega_r\\)), while keeping other parameters (detuning \\(\\Delta_i(t)\\) or phases) fixed. This can be useful if we want to test the effect of only adjusting certain parts of the pulse, or if we already know certain parameters should not change.\n"
   ]
  },
  {
   "cell_type": "markdown",
   "metadata": {},
   "source": [
    "## Motivation\n",
    "\n",
    "We have 5 columns in `ctrl_a`, `ctrl_b`, and `ctrl_c` (one column per control channel in the real code):\n",
    "1. \\(\\Delta_i(t)\\)  (detuning)\n",
    "2. Rabi \\(\\Omega_i\\) amplitude\n",
    "3. Rabi \\(\\Omega_i\\) phase\n",
    "4. Rabi \\(\\Omega_r\\) amplitude\n",
    "5. Rabi \\(\\Omega_r\\) phase\n",
    "\n",
    "Sometimes we want to freeze (not optimize) certain parameters, for example keep detuning and phases the same, while only optimizing amplitude. We'll show how to do that by applying a mask to the gradients so that those columns remain constant."
   ]
  },
  {
   "cell_type": "markdown",
   "metadata": {},
   "source": [
    "## Imports and Setup"
   ]
  },
  {
   "cell_type": "code",
   "execution_count": null,
   "metadata": {},
   "outputs": [],
   "source": [
    "import jax\n",
    "import jax.numpy as jnp\n",
    "import numpy as np\n",
    "import matplotlib.pyplot as plt\n",
    "from functools import partial\n",
    "\n",
    "from quantum_optimal_control.two_qubit.propagator_vl_jax import (\n",
    "    PropagatorVLJAX,\n",
    "    single_optimization_step\n",
    ")\n",
    "from quantum_optimal_control.toolkits.plotting_helper import PlotPlotter, getStylishFigureAxes\n",
    "\n",
    "key = jax.random.PRNGKey(123)\n"
   ]
  },
  {
   "cell_type": "markdown",
   "metadata": {},
   "source": [
    "### Create a Custom Single Step Function with Mask\n",
    "\n",
    "We can partially optimize by multiplying the gradient of the columns we do **not** want to change by 0. This effectively 'freezes' them at their initial values.\n",
    "\n",
    "For instance, if we only want to optimize the columns for Rabi_i amplitude (column 1) and Rabi_r amplitude (column 3) among the 5 columns, we'd define a mask:\n",
    "```\n",
    "mask = [\n",
    "   0.0,   # column 0 (Delta)\n",
    "   1.0,   # column 1 (Rabi_i amplitude)\n",
    "   0.0,   # column 2 (Rabi_i phase)\n",
    "   1.0,   # column 3 (Rabi_r amplitude)\n",
    "   0.0    # column 4 (Rabi_r phase)\n",
    "]\n",
    "```\n",
    "Then when we do the gradient update, we do `gradA = gradA * mask` for each row, and similarly for `gradB` and `gradC`.\n"
   ]
  },
  {
   "cell_type": "code",
   "execution_count": null,
   "metadata": {},
   "outputs": [],
   "source": [
    "# We'll define a new single-step function that uses a gradient mask.\n",
    "\n",
    "def single_optimization_step_masked(\n",
    "    propagator: PropagatorVLJAX,\n",
    "    ctrl_a: jnp.ndarray,\n",
    "    ctrl_b: jnp.ndarray,\n",
    "    ctrl_c: jnp.ndarray,\n",
    "    mask_a: jnp.ndarray,\n",
    "    mask_b: jnp.ndarray,\n",
    "    mask_c: jnp.ndarray,\n",
    "    lr: float = 0.02\n",
    "):\n",
    "    \"\"\"\n",
    "    Similar to single_optimization_step, but we apply a mask to the gradients.\n",
    "    mask_* should have the same shape as ctrl_*.\n",
    "    \"\"\"\n",
    "    def loss_fn(a, b, c):\n",
    "        return propagator.target(a, b, c)\n",
    "\n",
    "    cost, grads = jax.value_and_grad(loss_fn, argnums=(0,1,2))(ctrl_a, ctrl_b, ctrl_c)\n",
    "    gradA, gradB, gradC = grads\n",
    "\n",
    "    # Apply mask\n",
    "    gradA_masked = gradA * mask_a\n",
    "    gradB_masked = gradB * mask_b\n",
    "    gradC_masked = gradC * mask_c\n",
    "\n",
    "    # Update only the allowed columns\n",
    "    new_ctrl_a = ctrl_a - lr * gradA_masked\n",
    "    new_ctrl_b = ctrl_b - lr * gradB_masked\n",
    "    new_ctrl_c = ctrl_c - lr * gradC_masked\n",
    "\n",
    "    return cost, new_ctrl_a, new_ctrl_b, new_ctrl_c\n"
   ]
  },
  {
   "cell_type": "markdown",
   "metadata": {},
   "source": [
    "## Set Up a Simple Example\n",
    "\n",
    "We can do a short optimization on the usual 2-qubit gate cost function, but only updating, for instance, the amplitude columns (1 and 3). We'll freeze the detuning (column 0) and the phases (columns 2 and 4)."
   ]
  },
  {
   "cell_type": "code",
   "execution_count": null,
   "metadata": {},
   "outputs": [],
   "source": [
    "# Define system parameters quickly\n",
    "V_int = 2 * np.pi * 10e6\n",
    "tau = 324e-9\n",
    "Delta_i = 2 * np.pi * -35.7e6\n",
    "Rabi_i_val = 2 * np.pi * 100e6\n",
    "Rabi_r_val = 2 * np.pi * 100e6\n",
    "del_total = 0.0\n",
    "Gammas = [0.1, 1.0, 0.05, 0.05]\n",
    "\n",
    "# Time grid\n",
    "nt = 200\n",
    "pad = 20\n",
    "delta_t = 3e-9\n",
    "\n",
    "f_std = 50e6\n",
    "input_dim = 10\n",
    "numb_ctrl_amps = 5\n",
    "\n",
    "# Create the JAX-based propagator\n",
    "prop_jax = PropagatorVLJAX(\n",
    "    input_dim=input_dim,\n",
    "    no_of_steps=nt,\n",
    "    pad=pad,\n",
    "    f_std=f_std,\n",
    "    delta_t=delta_t,\n",
    "    del_total=del_total,\n",
    "    V_int=V_int,\n",
    "    Delta_i=Delta_i,\n",
    "    Rabi_i=Rabi_i_val,\n",
    "    Rabi_r=Rabi_r_val,\n",
    "    Gammas_all=Gammas\n",
    ")"
   ]
  },
  {
   "cell_type": "code",
   "execution_count": null,
   "metadata": {},
   "outputs": [],
   "source": [
    "key"
   ]
  },
  {
   "cell_type": "markdown",
   "metadata": {},
   "source": [
    "### Initialize Controls\n",
    "We'll set detuning (column 0) to a certain fixed value, phases (columns 2,4) to random small values, but won't be updated. Meanwhile, amplitude columns (1,3) can be random and we'll let them update."
   ]
  },
  {
   "cell_type": "code",
   "execution_count": null,
   "metadata": {},
   "outputs": [],
   "source": [
    "# We'll define ctrl_a, ctrl_b, ctrl_c, each shape [input_dim, 5]\n",
    "\n",
    "key, sub1, sub2, sub3 = jax.random.split(key, 4)\n",
    "\n",
    "ctrl_a_init = jnp.zeros((input_dim, numb_ctrl_amps))\n",
    "ctrl_b_init = jnp.zeros((input_dim, numb_ctrl_amps))\n",
    "ctrl_c_init = jnp.zeros((input_dim, numb_ctrl_amps))\n",
    "\n",
    "# Let's put Delta_i(t) in column 0 => we want to freeze this.\n",
    "# We'll fix it as e.g. -0.8 amplitude\n",
    "ctrl_a_init = ctrl_a_init.at[:,0].set(-0.8)  \n",
    "\n",
    "# We'll set amplitude columns 1,3 to random initial values in [-0.2, 0.2]\n",
    "ctrl_a_init = ctrl_a_init.at[:,1].set(\n",
    "    jax.random.uniform(sub1, shape=(input_dim,), minval=-0.2, maxval=0.2)\n",
    ")\n",
    "ctrl_a_init = ctrl_a_init.at[:,3].set(\n",
    "    jax.random.uniform(sub2, shape=(input_dim,), minval=-0.2, maxval=0.2)\n",
    ")\n",
    "\n",
    "# We'll set phases in columns 2,4 to random small values, but freeze them\n",
    "ctrl_a_init = ctrl_a_init.at[:,2].set(\n",
    "    jax.random.uniform(sub3, shape=(input_dim,), minval=-0.3, maxval=0.3)\n",
    ")\n",
    "ctrl_a_init = ctrl_a_init.at[:,4].set(\n",
    "    jax.random.uniform(sub3, shape=(input_dim,), minval=-0.3, maxval=0.3)\n",
    ")\n",
    "\n",
    "# For simplicity, ctrl_b_init, ctrl_c_init remain zero:\n",
    "# they shift the center and width of the Gaussian modes. We'll keep them zero.\n",
    "print(\"ctrl_a_init:\", ctrl_a_init.shape)\n"
   ]
  },
  {
   "cell_type": "markdown",
   "metadata": {},
   "source": [
    "### Define the Gradient Mask\n",
    "\n",
    "We want to freeze columns 0,2,4. We'll also freeze all of `ctrl_b` and `ctrl_c` for these columns. In other words, no updates for them. The easiest approach is to set the mask to 0 in those columns. We'll set the amplitude columns 1 and 3 to 1, so they get updated."
   ]
  },
  {
   "cell_type": "code",
   "execution_count": null,
   "metadata": {},
   "outputs": [],
   "source": [
    "# Create a mask of shape [input_dim, 5]\n",
    "mask_col = np.array([0,1,0,1,0], dtype=np.float32)\n",
    "mask_a = jnp.tile(mask_col, (input_dim,1))\n",
    "\n",
    "# If we want to keep the center/width of the Gaussians from changing,\n",
    "# we can simply set all of ctrl_b and ctrl_c to zero masks.\n",
    "mask_b = jnp.zeros_like(mask_a)\n",
    "mask_c = jnp.zeros_like(mask_a)\n",
    "\n",
    "print(\"mask_a shape =\", mask_a.shape)\n",
    "print(mask_a[0])"
   ]
  },
  {
   "cell_type": "markdown",
   "metadata": {},
   "source": [
    "### Run the Optimization\n",
    "We do a small number of steps using our masked single step function."
   ]
  },
  {
   "cell_type": "code",
   "execution_count": null,
   "metadata": {},
   "outputs": [],
   "source": [
    "num_iters = 1000\n",
    "lr = 0.02\n",
    "\n",
    "ctrl_a = ctrl_a_init\n",
    "ctrl_b = ctrl_b_init\n",
    "ctrl_c = ctrl_c_init\n",
    "cost_history = []\n",
    "\n",
    "# Warm-up\n",
    "cost0, ctrl_a, ctrl_b, ctrl_c = single_optimization_step_masked(\n",
    "    prop_jax, ctrl_a, ctrl_b, ctrl_c, mask_a, mask_b, mask_c, lr=lr\n",
    ")\n",
    "\n",
    "for step in range(num_iters):\n",
    "    cost_val, ctrl_a, ctrl_b, ctrl_c = single_optimization_step_masked(\n",
    "        prop_jax, ctrl_a, ctrl_b, ctrl_c, mask_a, mask_b, mask_c, lr=lr\n",
    "    )\n",
    "    cost_history.append(np.array(cost_val))\n",
    "\n",
    "final_cost = cost_history[-1]\n",
    "print(f\"Final cost after {num_iters} steps: {final_cost:.6e}\")"
   ]
  },
  {
   "cell_type": "markdown",
   "metadata": {},
   "source": [
    "## Analyze the Results\n",
    "Let's see if the amplitude columns changed while the others stayed the same."
   ]
  },
  {
   "cell_type": "code",
   "execution_count": null,
   "metadata": {},
   "outputs": [],
   "source": [
    "plt.figure()\n",
    "plt.plot(cost_history)\n",
    "plt.title(\"Cost vs iteration (partial optimization)\")\n",
    "plt.xlabel(\"Iteration\")\n",
    "plt.ylabel(\"Cost\")\n",
    "plt.show()\n",
    "\n",
    "print(\"Check final ctrl_a:\")\n",
    "print(ctrl_a[0])\n",
    "print(\"(We expect columns 0,2,4 to remain close to initial values; columns 1,3 changed)\")"
   ]
  },
  {
   "cell_type": "markdown",
   "metadata": {},
   "source": [
    "### Compare the Final Pulses\n",
    "We'll retrieve the final waveforms and check if indeed the phases/detuning are the same as we started, while amplitude columns have changed."
   ]
  },
  {
   "cell_type": "code",
   "execution_count": null,
   "metadata": {},
   "outputs": [],
   "source": [
    "final_pulses = prop_jax.return_physical_amplitudes(ctrl_a, ctrl_b, ctrl_c)\n",
    "final_pulses_np = np.array(final_pulses)\n",
    "print(\"Final pulses shape:\", final_pulses_np.shape)\n",
    "\n",
    "# We'll plot the columns\n",
    "labels = [\"Delta_i(t)\", \"Rabi_i mag\", \"Rabi_i phase\", \"Rabi_r mag\", \"Rabi_r phase\"]\n",
    "tlist = np.linspace(0, prop_jax.duration, final_pulses_np.shape[0])\n",
    "\n",
    "fig, ax = getStylishFigureAxes(1,1)\n",
    "for i in range(5):\n",
    "    PlotPlotter(\n",
    "        fig,\n",
    "        ax,\n",
    "        tlist*1e9,\n",
    "        final_pulses_np[:, i],\n",
    "        style={'label': labels[i], 'marker': '', 'linestyle': '-'}\n",
    "    ).draw()\n",
    "\n",
    "ax.legend(fontsize=6)\n",
    "ax.set_xlabel(\"Time (ns)\")\n",
    "ax.set_ylabel(\"Dimensionless amplitude\")\n",
    "plt.show()\n",
    "\n",
    "print(\"Notice that columns 0,2,4 remain roughly the same shape/time-dependence as initially set.\")"
   ]
  },
  {
   "cell_type": "markdown",
   "metadata": {},
   "source": [
    "## Conclusion\n",
    "\n",
    "We've shown how to apply a mask to the gradients so that only a desired subset of control parameters (e.g. the amplitude columns for \\(\\Omega_i\\) and \\(\\Omega_r\\)) get updated during the optimization, while the others remain fixed. This helps in scenarios where we only want to optimize certain channels or certain aspects of the pulse (like amplitude, but not phase)."
   ]
  }
 ],
 "metadata": {
  "kernelspec": {
   "display_name": "qoc-jax",
   "language": "python",
   "name": "python3"
  },
  "language_info": {
   "codemirror_mode": {
    "name": "ipython",
    "version": 3
   },
   "file_extension": ".py",
   "mimetype": "text/x-python",
   "name": "python",
   "nbconvert_exporter": "python",
   "pygments_lexer": "ipython3",
   "version": "3.9.12"
  }
 },
 "nbformat": 4,
 "nbformat_minor": 2
}
