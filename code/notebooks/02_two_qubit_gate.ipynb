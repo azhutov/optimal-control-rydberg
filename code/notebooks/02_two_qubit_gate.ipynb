{
 "cells": [
  {
   "cell_type": "markdown",
   "metadata": {},
   "source": [
    "# Quantum Optimal Control: Two-Qubit Gate (JAX Version)"
   ]
  },
  {
   "cell_type": "markdown",
   "metadata": {},
   "source": [
    "In this notebook, we demonstrate how to construct and optimize a two-qubit CZ gate using a JAX-based Van Loan propagator (`PropagatorVLJAX`). We keep the same structure as the previous TensorFlow version but replace the underlying code with JAX. We'll:\n",
    "1. Define the physical system parameters (Rubidium atomic parameters, lifetimes, decay rates)\n",
    "2. Set up the gate parameters, time grids, and an instance of `PropagatorVLJAX`\n",
    "3. Randomly initialize control pulses in terms of Gaussian modes\n",
    "4. Run a gradient-based optimization loop using JAX's automatic differentiation\n",
    "5. Analyze and plot the resulting optimal pulses.\n"
   ]
  },
  {
   "cell_type": "code",
   "execution_count": null,
   "metadata": {},
   "outputs": [],
   "source": [
    "import jax\n",
    "import jax.numpy as jnp\n",
    "import numpy as np\n",
    "import matplotlib.pyplot as plt3\n",
    "import time\n",
    "\n",
    "from arc import Rubidium87\n",
    "from qutip import *\n",
    "from quantum_optimal_control.two_qubit.propagator_vl_jax import (\n",
    "    PropagatorVLJAX,\n",
    "    single_optimization_step\n",
    ")\n",
    "from quantum_optimal_control.toolkits.plotting_helper import PlotPlotter, getStylishFigureAxes\n",
    "\n",
    "key = jax.random.PRNGKey(6)\n"
   ]
  },
  {
   "cell_type": "markdown",
   "metadata": {},
   "source": [
    "## System Parameters Setup\n",
    "\n",
    "We'll define atomic parameters for Rubidium87, including lifetimes and decay rates for the intermediate excited state (6P3/2) and the Rydberg state (70 S1/2). For the two-qubit gate, additional parameters such as the interaction strength `V_int`, gate time `tau`, and detuning `Delta_i` are also specified.\n",
    "\n",
    "The Rydberg decay rate includes contributions from both radiative decay and blackbody-stimulated transitions."
   ]
  },
  {
   "cell_type": "code",
   "execution_count": null,
   "metadata": {},
   "outputs": [],
   "source": [
    "atom = Rubidium87()\n",
    "\n",
    "# Intermediate excited state: 6P3/2\n",
    "n_i = 6\n",
    "l_i = 1\n",
    "j_i = 1.5\n",
    "T_i = atom.getStateLifetime(n_i, l_i, j_i)  # Lifetime of the intermediate state\n",
    "Gamma_ig = 1/T_i  # Decay rate of the intermediate state\n",
    "\n",
    "# Additional intermediate decay channels for two-qubit gate\n",
    "Gamma_i1 = 1 * Gamma_ig  # Allowed decay\n",
    "Gamma_i0 = 0            # Not used\n",
    "\n",
    "# Hyperfine ground state decay rate (from e.g. Levine2018)\n",
    "Gamma_10 = 0.1  # Decay rate between hyperfine ground states (1/s)\n",
    "\n",
    "# Rydberg state: 70 S1/2\n",
    "n_r = 70\n",
    "l_r = 0\n",
    "j_r = 0.5\n",
    "\n",
    "# Total lifetime including blackbody stimulation and radiative decay\n",
    "T_rTot = atom.getStateLifetime(n_r, l_r, j_r, temperature=300, includeLevelsUpTo=n_r + 50)\n",
    "T_rRad = atom.getStateLifetime(n_r, l_r, j_r, temperature=0)\n",
    "T_ri = 1/atom.getTransitionRate(n_r, l_r, j_r, n_i, l_i, j_i, temperature=0)\n",
    "\n",
    "# Effective lifetimes\n",
    "T_rgp = 1/(1/T_rRad - 1/T_ri)\n",
    "T_rBB = 1/(1/T_rTot - 1/T_rRad)\n",
    "\n",
    "Gamma_ri = 1/T_ri\n",
    "Gamma_rrp = 1/T_rBB\n",
    "Gamma_rgp = 1/T_rgp\n",
    "Gamma_rTot = Gamma_ri + Gamma_rrp + Gamma_rgp\n",
    "Gamma_rd = Gamma_rrp + Gamma_rgp\n",
    "\n",
    "# Consolidate decay rates\n",
    "Gammas = [Gamma_10, Gamma_i1, Gamma_ri, Gamma_rd]\n",
    "\n",
    "# Two-qubit gate specific parameters\n",
    "V_int = 2 * np.pi * 10e6  # Interaction strength in rad/s\n",
    "tau = 324e-9             # Gate time (s)\n",
    "Delta_i = 2 * np.pi * -35.7e6  # Detuning for the gate (rad/s)\n",
    "\n",
    "print(f'V_int: {V_int/(2*np.pi*1e6):.2f} MHz')\n",
    "print(f'tau: {tau*1e9:.2f} ns')\n",
    "print(f'Delta_i: {Delta_i/(2*np.pi*1e6):.2f} MHz')\n",
    "\n",
    "###### Additional system parameters ######\n",
    "Rabi_i = 2 * np.pi * 100e6\n",
    "Rabi_r = 2 * np.pi * 100e6\n",
    "del_total = 0\n",
    "\n",
    "# Time grid settings\n",
    "t_0 = 0\n",
    "t_f = 2 * tau\n",
    "nt = 500  # Increase for more accurate or keep moderate for speed\n",
    "pad = int(0.03 * nt)  # Padding points\n",
    "delta_t = (t_f - t_0) / (nt + 2 * pad)\n",
    "tlist = np.linspace(t_0, t_f, nt + 2*pad)\n",
    "\n",
    "# Pulse bandwidth (largest frequency component)\n",
    "f_std = 50e6\n",
    "\n",
    "# Basis dimension for the Gaussian modes\n",
    "input_dim = 10\n",
    "\n",
    "# For the cost function, number of control amplitudes is 5 (Delta_i, Rabi_i Re/Im, Rabi_r Re/Im in the old TF approach)\n",
    "numb_ctrl_amps = 5\n"
   ]
  },
  {
   "cell_type": "markdown",
   "metadata": {},
   "source": [
    "## Initializing the JAX Propagator\n",
    "\n",
    "Next, we create an instance of `PropagatorVLJAX` by providing the relevant parameters (dimensions, time step, detunings, Rabi frequencies, etc.). We also initialize random control parameters (`ctrl_a`, `ctrl_b`, `ctrl_c`) using JAX's random utilities. These parameters define how our pulses are constructed from sums of Gaussian modes."
   ]
  },
  {
   "cell_type": "code",
   "execution_count": null,
   "metadata": {},
   "outputs": [],
   "source": [
    "# Create the JAX-based propagator\n",
    "propagator_jax = PropagatorVLJAX(\n",
    "    input_dim=input_dim,\n",
    "    no_of_steps=nt,\n",
    "    pad=pad,\n",
    "    f_std=f_std,\n",
    "    delta_t=delta_t,\n",
    "    del_total=del_total,\n",
    "    V_int=V_int,\n",
    "    Delta_i=Delta_i,\n",
    "    Rabi_i=Rabi_i,\n",
    "    Rabi_r=Rabi_r,\n",
    "    Gammas_all=Gammas\n",
    ")"
   ]
  },
  {
   "cell_type": "markdown",
   "metadata": {},
   "source": [
    "### Randomly Initialize Controls\n",
    "\n",
    "We define three arrays of shape `[input_dim, 5]`: `ctrl_a`, `ctrl_b`, and `ctrl_c`. They are used internally by `PropagatorVLJAX` to generate the time-dependent pulses via sums of Gaussian basis functions. Let's randomize them."
   ]
  },
  {
   "cell_type": "code",
   "execution_count": null,
   "metadata": {},
   "outputs": [],
   "source": [
    "Rabi_i_analytical = lambda t, tau: np.sin(np.pi / (2 * tau) * t)  # Rabi conncecting 1 to i\n",
    "Rabi_r_analytical = lambda t, tau: abs(np.cos(np.pi / (2 * tau) * t))  # Rabi conncecting i to r"
   ]
  },
  {
   "cell_type": "code",
   "execution_count": null,
   "metadata": {},
   "outputs": [],
   "source": [
    "key, subkey1, subkey2, subkey3 = jax.random.split(key, 4)\n",
    "\n",
    "# ctrl_a: random amplitudes\n",
    "ctrl_a = jax.random.uniform(\n",
    "    subkey1,\n",
    "    shape=(input_dim, numb_ctrl_amps),\n",
    "    minval=-1.0,\n",
    "    maxval=1.0\n",
    ").astype(jnp.float64)\n",
    "\n",
    "# ctrl_b: random centers in [-1,1]\n",
    "ctrl_b = jax.random.uniform(\n",
    "    subkey2,\n",
    "    shape=(input_dim, numb_ctrl_amps),\n",
    "    minval=-1.0,\n",
    "    maxval=1.0\n",
    ").astype(jnp.float64)\n",
    "\n",
    "# ctrl_c: random widths in [0,0.5]\n",
    "ctrl_c = jax.random.uniform(\n",
    "    subkey3,\n",
    "    shape=(input_dim, numb_ctrl_amps),\n",
    "    minval=0.0,\n",
    "    maxval=0.5\n",
    ").astype(jnp.float64)\n",
    "\n",
    "# Evaluate initial cost\n",
    "init_cost = propagator_jax.target(ctrl_a, ctrl_b, ctrl_c)\n",
    "print(f\"Initial cost: {init_cost:.6e}\")"
   ]
  },
  {
   "cell_type": "markdown",
   "metadata": {},
   "source": [
    "## Visualize Initial Control Pulses\n",
    "\n",
    "Just as we did in the TensorFlow version, let's examine the raw pulses produced by our random parameters before any optimization."
   ]
  },
  {
   "cell_type": "code",
   "execution_count": null,
   "metadata": {},
   "outputs": [],
   "source": [
    "# Retrieve physical pulses [M, 5]\n",
    "initial_pulses = propagator_jax.return_physical_amplitudes(ctrl_a, ctrl_b, ctrl_c)\n",
    "initial_pulses_np = np.array(initial_pulses)\n",
    "\n",
    "labels = [r\"$\\Delta_i$\", r\"Rabi_i\\,mag\", r\"Rabi_i\\,phase\", r\"Rabi_r\\,mag\", r\"Rabi_r\\,phase\"]\n",
    "\n",
    "fig, ax = getStylishFigureAxes(1,1)\n",
    "for i in range(initial_pulses_np.shape[1]):\n",
    "    PlotPlotter(\n",
    "        fig,\n",
    "        ax,\n",
    "        tlist*1e9,\n",
    "        initial_pulses_np[:, i],\n",
    "        style={'label': labels[i], 'marker': '', 'linestyle': '-'},\n",
    "        xticks=[0, 250, 500, 750]\n",
    "    ).draw()\n",
    "\n",
    "ax.set_xlabel('Time (ns)')\n",
    "ax.set_ylabel('Pulse Amplitude')\n",
    "ax.legend(fontsize=6, bbox_to_anchor=(1.05, 1), loc='upper left')\n",
    "plt.show()"
   ]
  },
  {
   "cell_type": "markdown",
   "metadata": {},
   "source": [
    "## Gradient-Based Optimization\n",
    "\n",
    "We'll perform a simple gradient-descent (or Adam-based) loop. Here we use the `single_optimization_step` function that returns the cost and updated control parameters. The cost is defined within `PropagatorVLJAX.target()`.\n",
    "\n",
    "For demonstration, let's do a certain number of steps and monitor the cost. If you want to use more sophisticated optimizers (like Adam), you can write your own update step or adapt the code with JAX's `optax` library."
   ]
  },
  {
   "cell_type": "code",
   "execution_count": null,
   "metadata": {},
   "outputs": [],
   "source": [
    "num_iters = 1000\n",
    "learning_rate = 0.02\n",
    "\n",
    "cost_history = []\n",
    "\n",
    "# Pre-compile (JIT) by doing one warmup step\n",
    "warmup_cost, ctrl_a, ctrl_b, ctrl_c = single_optimization_step(\n",
    "    propagator_jax, ctrl_a, ctrl_b, ctrl_c, lr=learning_rate\n",
    ")\n",
    "\n",
    "for step in range(num_iters):\n",
    "    cost_val, ctrl_a, ctrl_b, ctrl_c = single_optimization_step(\n",
    "        propagator_jax, ctrl_a, ctrl_b, ctrl_c, lr=learning_rate\n",
    "    )\n",
    "    cost_val_np = np.array(cost_val)\n",
    "    cost_history.append(cost_val_np)\n",
    "    if (step + 1) % 10 == 0:\n",
    "        print(f\"Iteration {step+1}, cost = {cost_val_np:.6e}\")\n",
    "\n",
    "best_cost = cost_history[-1]\n",
    "print(f\"Final cost after {num_iters} steps: {best_cost:.6e}\")"
   ]
  },
  {
   "cell_type": "markdown",
   "metadata": {},
   "source": [
    "## Analyze Optimized Pulses\n",
    "\n",
    "We'll now plot the final pulses and see how they differ from the initial random guess. The first channel corresponds to $\\Delta_i(t)$, and the next four columns represent Rabi amplitude/phase for the intermediate and Rydberg drives (in a parametric form)."
   ]
  },
  {
   "cell_type": "code",
   "execution_count": null,
   "metadata": {},
   "outputs": [],
   "source": [
    "# Get final pulses\n",
    "final_pulses = propagator_jax.return_physical_amplitudes(ctrl_a, ctrl_b, ctrl_c)\n",
    "final_pulses_np = np.array(final_pulses)\n",
    "\n",
    "fig, ax = getStylishFigureAxes(1,1)\n",
    "for i in range(final_pulses_np.shape[1]):\n",
    "    PlotPlotter(\n",
    "        fig, ax,\n",
    "        tlist*1e9,\n",
    "        final_pulses_np[:, i],\n",
    "        style={'label': labels[i], 'marker': '', 'linestyle': '-'},\n",
    "        xticks=[0, 250, 500, 750]\n",
    "    ).draw()\n",
    "\n",
    "ax.set_xlabel('Time (ns)')\n",
    "ax.set_ylabel('Pulse Amplitude')\n",
    "ax.legend(fontsize=6, bbox_to_anchor=(1.05, 1), loc='upper left')\n",
    "plt.show()"
   ]
  },
  {
   "cell_type": "markdown",
   "metadata": {},
   "source": [
    "### Extract Rabi Magnitudes and Phases\n",
    "\n",
    "Just like the previous approach, we can interpret the second and third columns as amplitude and phase for $\\Omega_i$, and the fourth and fifth columns as amplitude and phase for $\\Omega_r$. Let's convert them to a more direct $(\\text{magnitude}, \\text{phase})$ representation."
   ]
  },
  {
   "cell_type": "code",
   "execution_count": null,
   "metadata": {},
   "outputs": [],
   "source": [
    "rabi_i_mag = Rabi_i * final_pulses_np[:,1]\n",
    "rabi_i_ph = np.pi * final_pulses_np[:,2]\n",
    "rabi_r_mag = Rabi_r * final_pulses_np[:,3]\n",
    "rabi_r_ph = np.pi * final_pulses_np[:,4]\n",
    "\n",
    "# rabi_i_amplitude = rabi_i_mag * np.exp(1j * rabi_i_ph)\n",
    "# rabi_i_amplitude = np.abs(rabi_i_amplitude)\n",
    "# rabi_r_amplitude = rabi_r_mag * np.exp(1j * rabi_r_ph)\n",
    "# rabi_r_amplitude = np.abs(rabi_r_amplitude)\n",
    "\n",
    "\n",
    "fig, ax = getStylishFigureAxes(1, 1)\n",
    "PlotPlotter(\n",
    "    fig, ax,\n",
    "    tlist*1e9,\n",
    "    rabi_i_amplitude    ,\n",
    "    style={'label': r'$|\\Omega_i|$', 'marker': '', 'linestyle': '-'}\n",
    ").draw()\n",
    "\n",
    "PlotPlotter(\n",
    "    fig, ax,\n",
    "    tlist*1e9,\n",
    "    rabi_r_amplitude,\n",
    "    style={'label': r'$|\\Omega_r|$', 'marker': '', 'linestyle': '-'}\n",
    ").draw()\n",
    "\n",
    "\n",
    "plt.show()"
   ]
  },
  {
   "cell_type": "code",
   "execution_count": null,
   "metadata": {},
   "outputs": [],
   "source": [
    "fig, ax = getStylishFigureAxes(1, 1)\n",
    "PlotPlotter(\n",
    "    fig, ax,\n",
    "    tlist*1e9,\n",
    "    rabi_i_ph,\n",
    "    style={'label': r'$\\phi_i$', 'marker': '', 'linestyle': '-'}\n",
    ").draw()\n",
    "\n",
    "PlotPlotter(\n",
    "    fig, ax,\n",
    "    tlist*1e9,\n",
    "    rabi_r_ph,\n",
    "    style={'label': r'$\\phi_r$', 'marker': '', 'linestyle': '-'}\n",
    ").draw()\n",
    "\n",
    "plt.show()"
   ]
  },
  {
   "cell_type": "code",
   "execution_count": null,
   "metadata": {},
   "outputs": [],
   "source": [
    "final_np = final_pulses_np\n",
    "# final_np[:, 0]: Delta_i(t)\n",
    "# final_np[:, 1]: Rabi_i amplitude param, final_np[:, 2]: Rabi_i phase param\n",
    "# final_np[:, 3]: Rabi_r amplitude param, final_np[:, 4]: Rabi_r phase param\n",
    "\n",
    "rabi_i_mag = Rabi_i * final_np[:,1]\n",
    "rabi_i_ph = np.pi * final_np[:,2]\n",
    "rabi_r_mag = Rabi_r * final_np[:,3]\n",
    "rabi_r_ph = np.pi * final_np[:,4]\n",
    "\n",
    "# Rabi_i_abs = np.sqrt((rabi_i_mag * np.cos(rabi_i_ph / Rabi_i))**2 + (rabi_i_mag * np.sin(rabi_i_ph / Rabi_i))**2)\n",
    "# Actually simpler might be: Rabi_i_abs ~ rabi_i_mag, but we must be mindful the code lumps amplitude & phase differently.\n",
    "# We'll do a direct approach:\n",
    "# ri_complex = rabi_i_mag * np.exp(1j * rabi_i_ph / Rabi_i)  # but the original code lumps pi factor\n",
    "\n",
    "# Instead let's keep it simpler:\n",
    "Rabi_i_magnitude = np.sqrt((final_np[:,1] * np.cos(np.pi * final_np[:,2]))**2 + (final_np[:,1] * np.sin(np.pi * final_np[:,2]))**2)\n",
    "Rabi_r_magnitude = np.sqrt((final_np[:,3] * np.cos(np.pi * final_np[:,4]))**2 + (final_np[:,3] * np.sin(np.pi * final_np[:,4]))**2)\n",
    "\n",
    "Rabi_i_phase = np.pi * final_np[:,2]\n",
    "Rabi_r_phase = np.pi * final_np[:,4]\n",
    "\n",
    "fig, ax = getStylishFigureAxes(1, 1)\n",
    "PlotPlotter(\n",
    "    fig, ax,\n",
    "    tlist*1e9,\n",
    "    Rabi_i_magnitude,\n",
    "    style={'label': r'$|\\Omega_i|$', 'marker': '', 'linestyle': '-'}\n",
    ").draw()\n",
    "\n",
    "PlotPlotter(\n",
    "    fig, ax,\n",
    "    tlist*1e9,\n",
    "    Rabi_r_magnitude,\n",
    "    style={'label': r'$|\\Omega_r|$', 'marker': '', 'linestyle': '-'}\n",
    ").draw()\n",
    "\n",
    "ax.legend(fontsize=6)\n",
    "ax.set_xlabel('Time (ns)')\n",
    "ax.set_ylabel('Normalized Rabi Magnitude (dimensionless)')\n",
    "plt.show()"
   ]
  },
  {
   "cell_type": "code",
   "execution_count": null,
   "metadata": {},
   "outputs": [],
   "source": [
    "fig, ax = getStylishFigureAxes(1, 1)\n",
    "PlotPlotter(\n",
    "    fig, ax,\n",
    "    tlist*1e9,\n",
    "    Rabi_i_phase,\n",
    "    style={'label': r'$\\phi_i$', 'marker': '', 'linestyle': '-'}\n",
    ").draw()\n",
    "\n",
    "PlotPlotter(\n",
    "    fig, ax,\n",
    "    tlist*1e9,\n",
    "    Rabi_r_phase,\n",
    "    style={'label': r'$\\phi_r$', 'marker': '', 'linestyle': '-'}\n",
    ").draw()\n",
    "\n",
    "ax.legend(fontsize=6)\n",
    "ax.set_xlabel('Time (ns)')\n",
    "ax.set_ylabel('Normalized Rabi Magnitude (dimensionless)')\n",
    "plt.show()"
   ]
  },
  {
   "cell_type": "markdown",
   "metadata": {},
   "source": [
    "## Brief State Evolution Check\n",
    "\n",
    "We can run the final solution through the propagator (via `propagate`) and examine the final operator, or even do a step-by-step evolution to check relevant population or amplitude metrics.\n",
    "Below is a snippet that obtains the final 32x32 Van Loan operator and extracts the top-left 16x16 as the effective two-qubit evolution operator.\n"
   ]
  },
  {
   "cell_type": "code",
   "execution_count": null,
   "metadata": {},
   "outputs": [],
   "source": [
    "final_vl = propagator_jax.propagate(ctrl_a, ctrl_b, ctrl_c)\n",
    "dim_sq = propagator_jax.dim * propagator_jax.dim\n",
    "U_final = final_vl[0:dim_sq, 0:dim_sq]\n",
    "\n",
    "print(\"Final 2-qubit operator shape:\", U_final.shape)\n",
    "print(\"Trace of U_final:\", np.trace(np.array(U_final)))\n"
   ]
  },
  {
   "cell_type": "markdown",
   "metadata": {},
   "source": [
    "### Infidelity Check\n",
    "\n",
    "We already have a cost measure built in, but let's verify the final infidelity and other metrics we can retrieve from `propagator_jax.metrics(...)`."
   ]
  },
  {
   "cell_type": "code",
   "execution_count": null,
   "metadata": {},
   "outputs": [],
   "source": [
    "infid, adiab = propagator_jax.metrics(ctrl_a, ctrl_b, ctrl_c)\n",
    "print(f\"Final infidelity: {infid:.6e}, Adiabatic metric: {adiab:.6e}\")\n"
   ]
  },
  {
   "cell_type": "markdown",
   "metadata": {},
   "source": [
    "## Conclusion\n",
    "\n",
    "We've successfully replaced the TensorFlow-based code with a JAX-based Van Loan propagator for two-qubit gates. We:\n",
    "- Defined the same Rubidium87 system parameters.\n",
    "- Constructed pulses via random Gaussian modes.\n",
    "- Performed gradient updates on the cost function using JAX's autodiff.\n",
    "- Analyzed the final pulses and checked the resulting gate operator.\n",
    "\n",
    "For production-scale usage, we can increase `nt`, refine the basis dimension, or combine `PropagatorVLJAX` with advanced optimizers in JAX or other libraries."
   ]
  }
 ],
 "metadata": {
  "kernelspec": {
   "display_name": "qoc-jax",
   "language": "python",
   "name": "python3"
  },
  "language_info": {
   "codemirror_mode": {
    "name": "ipython",
    "version": 3
   },
   "file_extension": ".py",
   "mimetype": "text/x-python",
   "name": "python",
   "nbconvert_exporter": "python",
   "pygments_lexer": "ipython3",
   "version": "3.9.12"
  }
 },
 "nbformat": 4,
 "nbformat_minor": 2
}
